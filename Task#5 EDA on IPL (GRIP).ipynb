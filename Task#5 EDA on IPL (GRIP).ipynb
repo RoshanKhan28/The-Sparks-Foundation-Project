{
 "cells": [
  {
   "cell_type": "markdown",
   "id": "e2103bca",
   "metadata": {},
   "source": [
    "# IPL Exploratory Data Analysis"
   ]
  },
  {
   "cell_type": "markdown",
   "id": "43457eaa",
   "metadata": {},
   "source": [
    "### Importing the Libraries"
   ]
  },
  {
   "cell_type": "code",
   "execution_count": 1,
   "id": "68e4ca04",
   "metadata": {},
   "outputs": [],
   "source": [
    "import pandas as pd\n",
    "import numpy as np\n",
    "import matplotlib.pyplot as plt\n",
    "import seaborn as sns"
   ]
  },
  {
   "cell_type": "code",
   "execution_count": 2,
   "id": "e9c78394",
   "metadata": {},
   "outputs": [],
   "source": [
    "df=pd.read_csv('matches.csv')\n",
    "df1=pd.read_csv('deliveries.csv')"
   ]
  },
  {
   "cell_type": "markdown",
   "id": "406d06b3",
   "metadata": {},
   "source": [
    "### Checking Some Helpful info on Data frames"
   ]
  },
  {
   "cell_type": "code",
   "execution_count": 3,
   "id": "e0297691",
   "metadata": {
    "scrolled": true
   },
   "outputs": [
    {
     "data": {
      "text/plain": [
       "(179078, 21)"
      ]
     },
     "execution_count": 3,
     "metadata": {},
     "output_type": "execute_result"
    }
   ],
   "source": [
    "df1.shape"
   ]
  },
  {
   "cell_type": "code",
   "execution_count": 4,
   "id": "26c9d0bb",
   "metadata": {
    "scrolled": true
   },
   "outputs": [
    {
     "data": {
      "text/html": [
       "<div>\n",
       "<style scoped>\n",
       "    .dataframe tbody tr th:only-of-type {\n",
       "        vertical-align: middle;\n",
       "    }\n",
       "\n",
       "    .dataframe tbody tr th {\n",
       "        vertical-align: top;\n",
       "    }\n",
       "\n",
       "    .dataframe thead th {\n",
       "        text-align: right;\n",
       "    }\n",
       "</style>\n",
       "<table border=\"1\" class=\"dataframe\">\n",
       "  <thead>\n",
       "    <tr style=\"text-align: right;\">\n",
       "      <th></th>\n",
       "      <th>match_id</th>\n",
       "      <th>inning</th>\n",
       "      <th>batting_team</th>\n",
       "      <th>bowling_team</th>\n",
       "      <th>over</th>\n",
       "      <th>ball</th>\n",
       "      <th>batsman</th>\n",
       "      <th>non_striker</th>\n",
       "      <th>bowler</th>\n",
       "      <th>is_super_over</th>\n",
       "      <th>...</th>\n",
       "      <th>bye_runs</th>\n",
       "      <th>legbye_runs</th>\n",
       "      <th>noball_runs</th>\n",
       "      <th>penalty_runs</th>\n",
       "      <th>batsman_runs</th>\n",
       "      <th>extra_runs</th>\n",
       "      <th>total_runs</th>\n",
       "      <th>player_dismissed</th>\n",
       "      <th>dismissal_kind</th>\n",
       "      <th>fielder</th>\n",
       "    </tr>\n",
       "  </thead>\n",
       "  <tbody>\n",
       "    <tr>\n",
       "      <th>0</th>\n",
       "      <td>1</td>\n",
       "      <td>1</td>\n",
       "      <td>Sunrisers Hyderabad</td>\n",
       "      <td>Royal Challengers Bangalore</td>\n",
       "      <td>1</td>\n",
       "      <td>1</td>\n",
       "      <td>DA Warner</td>\n",
       "      <td>S Dhawan</td>\n",
       "      <td>TS Mills</td>\n",
       "      <td>0</td>\n",
       "      <td>...</td>\n",
       "      <td>0</td>\n",
       "      <td>0</td>\n",
       "      <td>0</td>\n",
       "      <td>0</td>\n",
       "      <td>0</td>\n",
       "      <td>0</td>\n",
       "      <td>0</td>\n",
       "      <td>NaN</td>\n",
       "      <td>NaN</td>\n",
       "      <td>NaN</td>\n",
       "    </tr>\n",
       "    <tr>\n",
       "      <th>1</th>\n",
       "      <td>1</td>\n",
       "      <td>1</td>\n",
       "      <td>Sunrisers Hyderabad</td>\n",
       "      <td>Royal Challengers Bangalore</td>\n",
       "      <td>1</td>\n",
       "      <td>2</td>\n",
       "      <td>DA Warner</td>\n",
       "      <td>S Dhawan</td>\n",
       "      <td>TS Mills</td>\n",
       "      <td>0</td>\n",
       "      <td>...</td>\n",
       "      <td>0</td>\n",
       "      <td>0</td>\n",
       "      <td>0</td>\n",
       "      <td>0</td>\n",
       "      <td>0</td>\n",
       "      <td>0</td>\n",
       "      <td>0</td>\n",
       "      <td>NaN</td>\n",
       "      <td>NaN</td>\n",
       "      <td>NaN</td>\n",
       "    </tr>\n",
       "    <tr>\n",
       "      <th>2</th>\n",
       "      <td>1</td>\n",
       "      <td>1</td>\n",
       "      <td>Sunrisers Hyderabad</td>\n",
       "      <td>Royal Challengers Bangalore</td>\n",
       "      <td>1</td>\n",
       "      <td>3</td>\n",
       "      <td>DA Warner</td>\n",
       "      <td>S Dhawan</td>\n",
       "      <td>TS Mills</td>\n",
       "      <td>0</td>\n",
       "      <td>...</td>\n",
       "      <td>0</td>\n",
       "      <td>0</td>\n",
       "      <td>0</td>\n",
       "      <td>0</td>\n",
       "      <td>4</td>\n",
       "      <td>0</td>\n",
       "      <td>4</td>\n",
       "      <td>NaN</td>\n",
       "      <td>NaN</td>\n",
       "      <td>NaN</td>\n",
       "    </tr>\n",
       "    <tr>\n",
       "      <th>3</th>\n",
       "      <td>1</td>\n",
       "      <td>1</td>\n",
       "      <td>Sunrisers Hyderabad</td>\n",
       "      <td>Royal Challengers Bangalore</td>\n",
       "      <td>1</td>\n",
       "      <td>4</td>\n",
       "      <td>DA Warner</td>\n",
       "      <td>S Dhawan</td>\n",
       "      <td>TS Mills</td>\n",
       "      <td>0</td>\n",
       "      <td>...</td>\n",
       "      <td>0</td>\n",
       "      <td>0</td>\n",
       "      <td>0</td>\n",
       "      <td>0</td>\n",
       "      <td>0</td>\n",
       "      <td>0</td>\n",
       "      <td>0</td>\n",
       "      <td>NaN</td>\n",
       "      <td>NaN</td>\n",
       "      <td>NaN</td>\n",
       "    </tr>\n",
       "    <tr>\n",
       "      <th>4</th>\n",
       "      <td>1</td>\n",
       "      <td>1</td>\n",
       "      <td>Sunrisers Hyderabad</td>\n",
       "      <td>Royal Challengers Bangalore</td>\n",
       "      <td>1</td>\n",
       "      <td>5</td>\n",
       "      <td>DA Warner</td>\n",
       "      <td>S Dhawan</td>\n",
       "      <td>TS Mills</td>\n",
       "      <td>0</td>\n",
       "      <td>...</td>\n",
       "      <td>0</td>\n",
       "      <td>0</td>\n",
       "      <td>0</td>\n",
       "      <td>0</td>\n",
       "      <td>0</td>\n",
       "      <td>2</td>\n",
       "      <td>2</td>\n",
       "      <td>NaN</td>\n",
       "      <td>NaN</td>\n",
       "      <td>NaN</td>\n",
       "    </tr>\n",
       "  </tbody>\n",
       "</table>\n",
       "<p>5 rows × 21 columns</p>\n",
       "</div>"
      ],
      "text/plain": [
       "   match_id  inning         batting_team                 bowling_team  over  \\\n",
       "0         1       1  Sunrisers Hyderabad  Royal Challengers Bangalore     1   \n",
       "1         1       1  Sunrisers Hyderabad  Royal Challengers Bangalore     1   \n",
       "2         1       1  Sunrisers Hyderabad  Royal Challengers Bangalore     1   \n",
       "3         1       1  Sunrisers Hyderabad  Royal Challengers Bangalore     1   \n",
       "4         1       1  Sunrisers Hyderabad  Royal Challengers Bangalore     1   \n",
       "\n",
       "   ball    batsman non_striker    bowler  is_super_over  ...  bye_runs  \\\n",
       "0     1  DA Warner    S Dhawan  TS Mills              0  ...         0   \n",
       "1     2  DA Warner    S Dhawan  TS Mills              0  ...         0   \n",
       "2     3  DA Warner    S Dhawan  TS Mills              0  ...         0   \n",
       "3     4  DA Warner    S Dhawan  TS Mills              0  ...         0   \n",
       "4     5  DA Warner    S Dhawan  TS Mills              0  ...         0   \n",
       "\n",
       "   legbye_runs  noball_runs  penalty_runs  batsman_runs  extra_runs  \\\n",
       "0            0            0             0             0           0   \n",
       "1            0            0             0             0           0   \n",
       "2            0            0             0             4           0   \n",
       "3            0            0             0             0           0   \n",
       "4            0            0             0             0           2   \n",
       "\n",
       "   total_runs  player_dismissed dismissal_kind fielder  \n",
       "0           0               NaN            NaN     NaN  \n",
       "1           0               NaN            NaN     NaN  \n",
       "2           4               NaN            NaN     NaN  \n",
       "3           0               NaN            NaN     NaN  \n",
       "4           2               NaN            NaN     NaN  \n",
       "\n",
       "[5 rows x 21 columns]"
      ]
     },
     "execution_count": 4,
     "metadata": {},
     "output_type": "execute_result"
    }
   ],
   "source": [
    "df1.head()"
   ]
  },
  {
   "cell_type": "code",
   "execution_count": 5,
   "id": "c0aede61",
   "metadata": {},
   "outputs": [
    {
     "data": {
      "text/plain": [
       "match_id             int64\n",
       "inning               int64\n",
       "batting_team        object\n",
       "bowling_team        object\n",
       "over                 int64\n",
       "ball                 int64\n",
       "batsman             object\n",
       "non_striker         object\n",
       "bowler              object\n",
       "is_super_over        int64\n",
       "wide_runs            int64\n",
       "bye_runs             int64\n",
       "legbye_runs          int64\n",
       "noball_runs          int64\n",
       "penalty_runs         int64\n",
       "batsman_runs         int64\n",
       "extra_runs           int64\n",
       "total_runs           int64\n",
       "player_dismissed    object\n",
       "dismissal_kind      object\n",
       "fielder             object\n",
       "dtype: object"
      ]
     },
     "execution_count": 5,
     "metadata": {},
     "output_type": "execute_result"
    }
   ],
   "source": [
    "df1.dtypes"
   ]
  },
  {
   "cell_type": "code",
   "execution_count": 6,
   "id": "6f4dd7d1",
   "metadata": {},
   "outputs": [
    {
     "data": {
      "text/html": [
       "<div>\n",
       "<style scoped>\n",
       "    .dataframe tbody tr th:only-of-type {\n",
       "        vertical-align: middle;\n",
       "    }\n",
       "\n",
       "    .dataframe tbody tr th {\n",
       "        vertical-align: top;\n",
       "    }\n",
       "\n",
       "    .dataframe thead th {\n",
       "        text-align: right;\n",
       "    }\n",
       "</style>\n",
       "<table border=\"1\" class=\"dataframe\">\n",
       "  <thead>\n",
       "    <tr style=\"text-align: right;\">\n",
       "      <th></th>\n",
       "      <th>match_id</th>\n",
       "      <th>inning</th>\n",
       "      <th>batting_team</th>\n",
       "      <th>bowling_team</th>\n",
       "      <th>over</th>\n",
       "      <th>ball</th>\n",
       "      <th>batsman</th>\n",
       "      <th>non_striker</th>\n",
       "      <th>bowler</th>\n",
       "      <th>is_super_over</th>\n",
       "      <th>wide_runs</th>\n",
       "      <th>bye_runs</th>\n",
       "      <th>legbye_runs</th>\n",
       "      <th>noball_runs</th>\n",
       "      <th>penalty_runs</th>\n",
       "      <th>batsman_runs</th>\n",
       "      <th>extra_runs</th>\n",
       "      <th>total_runs</th>\n",
       "      <th>player_dismissed</th>\n",
       "      <th>dismissal_kind</th>\n",
       "      <th>fielder</th>\n",
       "    </tr>\n",
       "  </thead>\n",
       "  <tbody>\n",
       "    <tr>\n",
       "      <th>0</th>\n",
       "      <td>1</td>\n",
       "      <td>1</td>\n",
       "      <td>Sunrisers Hyderabad</td>\n",
       "      <td>Royal Challengers Bangalore</td>\n",
       "      <td>1</td>\n",
       "      <td>1</td>\n",
       "      <td>DA Warner</td>\n",
       "      <td>S Dhawan</td>\n",
       "      <td>TS Mills</td>\n",
       "      <td>0</td>\n",
       "      <td>0</td>\n",
       "      <td>0</td>\n",
       "      <td>0</td>\n",
       "      <td>0</td>\n",
       "      <td>0</td>\n",
       "      <td>0</td>\n",
       "      <td>0</td>\n",
       "      <td>0</td>\n",
       "      <td>NaN</td>\n",
       "      <td>NaN</td>\n",
       "      <td>NaN</td>\n",
       "    </tr>\n",
       "    <tr>\n",
       "      <th>1</th>\n",
       "      <td>1</td>\n",
       "      <td>1</td>\n",
       "      <td>Sunrisers Hyderabad</td>\n",
       "      <td>Royal Challengers Bangalore</td>\n",
       "      <td>1</td>\n",
       "      <td>2</td>\n",
       "      <td>DA Warner</td>\n",
       "      <td>S Dhawan</td>\n",
       "      <td>TS Mills</td>\n",
       "      <td>0</td>\n",
       "      <td>0</td>\n",
       "      <td>0</td>\n",
       "      <td>0</td>\n",
       "      <td>0</td>\n",
       "      <td>0</td>\n",
       "      <td>0</td>\n",
       "      <td>0</td>\n",
       "      <td>0</td>\n",
       "      <td>NaN</td>\n",
       "      <td>NaN</td>\n",
       "      <td>NaN</td>\n",
       "    </tr>\n",
       "    <tr>\n",
       "      <th>2</th>\n",
       "      <td>1</td>\n",
       "      <td>1</td>\n",
       "      <td>Sunrisers Hyderabad</td>\n",
       "      <td>Royal Challengers Bangalore</td>\n",
       "      <td>1</td>\n",
       "      <td>3</td>\n",
       "      <td>DA Warner</td>\n",
       "      <td>S Dhawan</td>\n",
       "      <td>TS Mills</td>\n",
       "      <td>0</td>\n",
       "      <td>0</td>\n",
       "      <td>0</td>\n",
       "      <td>0</td>\n",
       "      <td>0</td>\n",
       "      <td>0</td>\n",
       "      <td>4</td>\n",
       "      <td>0</td>\n",
       "      <td>4</td>\n",
       "      <td>NaN</td>\n",
       "      <td>NaN</td>\n",
       "      <td>NaN</td>\n",
       "    </tr>\n",
       "    <tr>\n",
       "      <th>3</th>\n",
       "      <td>1</td>\n",
       "      <td>1</td>\n",
       "      <td>Sunrisers Hyderabad</td>\n",
       "      <td>Royal Challengers Bangalore</td>\n",
       "      <td>1</td>\n",
       "      <td>4</td>\n",
       "      <td>DA Warner</td>\n",
       "      <td>S Dhawan</td>\n",
       "      <td>TS Mills</td>\n",
       "      <td>0</td>\n",
       "      <td>0</td>\n",
       "      <td>0</td>\n",
       "      <td>0</td>\n",
       "      <td>0</td>\n",
       "      <td>0</td>\n",
       "      <td>0</td>\n",
       "      <td>0</td>\n",
       "      <td>0</td>\n",
       "      <td>NaN</td>\n",
       "      <td>NaN</td>\n",
       "      <td>NaN</td>\n",
       "    </tr>\n",
       "    <tr>\n",
       "      <th>4</th>\n",
       "      <td>1</td>\n",
       "      <td>1</td>\n",
       "      <td>Sunrisers Hyderabad</td>\n",
       "      <td>Royal Challengers Bangalore</td>\n",
       "      <td>1</td>\n",
       "      <td>5</td>\n",
       "      <td>DA Warner</td>\n",
       "      <td>S Dhawan</td>\n",
       "      <td>TS Mills</td>\n",
       "      <td>0</td>\n",
       "      <td>2</td>\n",
       "      <td>0</td>\n",
       "      <td>0</td>\n",
       "      <td>0</td>\n",
       "      <td>0</td>\n",
       "      <td>0</td>\n",
       "      <td>2</td>\n",
       "      <td>2</td>\n",
       "      <td>NaN</td>\n",
       "      <td>NaN</td>\n",
       "      <td>NaN</td>\n",
       "    </tr>\n",
       "  </tbody>\n",
       "</table>\n",
       "</div>"
      ],
      "text/plain": [
       "   match_id  inning         batting_team                 bowling_team  over  \\\n",
       "0         1       1  Sunrisers Hyderabad  Royal Challengers Bangalore     1   \n",
       "1         1       1  Sunrisers Hyderabad  Royal Challengers Bangalore     1   \n",
       "2         1       1  Sunrisers Hyderabad  Royal Challengers Bangalore     1   \n",
       "3         1       1  Sunrisers Hyderabad  Royal Challengers Bangalore     1   \n",
       "4         1       1  Sunrisers Hyderabad  Royal Challengers Bangalore     1   \n",
       "\n",
       "   ball    batsman non_striker    bowler  is_super_over  wide_runs  bye_runs  \\\n",
       "0     1  DA Warner    S Dhawan  TS Mills              0          0         0   \n",
       "1     2  DA Warner    S Dhawan  TS Mills              0          0         0   \n",
       "2     3  DA Warner    S Dhawan  TS Mills              0          0         0   \n",
       "3     4  DA Warner    S Dhawan  TS Mills              0          0         0   \n",
       "4     5  DA Warner    S Dhawan  TS Mills              0          2         0   \n",
       "\n",
       "   legbye_runs  noball_runs  penalty_runs  batsman_runs  extra_runs  \\\n",
       "0            0            0             0             0           0   \n",
       "1            0            0             0             0           0   \n",
       "2            0            0             0             4           0   \n",
       "3            0            0             0             0           0   \n",
       "4            0            0             0             0           2   \n",
       "\n",
       "   total_runs player_dismissed dismissal_kind fielder  \n",
       "0           0              NaN            NaN     NaN  \n",
       "1           0              NaN            NaN     NaN  \n",
       "2           4              NaN            NaN     NaN  \n",
       "3           0              NaN            NaN     NaN  \n",
       "4           2              NaN            NaN     NaN  "
      ]
     },
     "execution_count": 6,
     "metadata": {},
     "output_type": "execute_result"
    }
   ],
   "source": [
    "pd.set_option('display.max_columns', None)\n",
    "df1.head()"
   ]
  },
  {
   "cell_type": "code",
   "execution_count": 7,
   "id": "0e9086ca",
   "metadata": {},
   "outputs": [
    {
     "data": {
      "text/plain": [
       "array([nan, 'Mandeep Singh', 'Sachin Baby', 'DA Warner', 'BCJ Cutting',\n",
       "       'Yuvraj Singh', 'MC Henriques', 'CJ Jordan (sub)', 'MS Dhoni',\n",
       "       'R Bhatia', 'MA Agarwal', 'RG Sharma', 'N Rana', 'TG Southee',\n",
       "       'YK Pathan', 'Kuldeep Yadav', 'MP Stoinis', 'M Vohra',\n",
       "       'GJ Maxwell', 'MK Tiwary', 'BA Stokes', 'SV Samson', 'RR Pant',\n",
       "       'SW Billings', 'S Nadeem', 'CH Morris', 'B Stanlake', 'STR Binny',\n",
       "       'S Dhawan', 'V Shankar (sub)', 'NV Ojha', 'Rashid Khan',\n",
       "       'BB McCullum', 'MJ McClenaghan', 'HH Pandya', 'KA Pollard',\n",
       "       'RV Uthappa', 'R Dhawan (sub)', 'SP Narine', 'WP Saha', 'KK Nair',\n",
       "       'A Mishra', 'PA Patel', 'B Kumar', 'G Gambhir', 'MK Pandey',\n",
       "       'CR Woakes', 'SA Yadav', 'AR Patel', 'JC Buttler', 'JJ Bumrah',\n",
       "       'CH Gayle', 'S Aravind', 'AB de Villiers', 'SK Raina', 'AJ Finch',\n",
       "       'Ishan Kishan', 'RD Chahar', 'C de Grandhomme', 'EJG Morgan',\n",
       "       'DA Miller', 'MM Sharma', 'Z Khan', 'KH Pandya', 'JJ Roy',\n",
       "       'KD Karthik', 'RA Jadeja', 'V Kohli', 'AM Rahane', 'RA Tripathi',\n",
       "       'UT Yadav', 'AD Mathews', 'Sandeep Sharma', 'DR Smith',\n",
       "       'SR Watson', 'KM Jadhav', 'AF Milne', 'P Negi', 'YS Chahal',\n",
       "       'SS Iyer', 'DJ Hooda', 'JP Faulkner', 'CJ Anderson', 'PJ Cummins',\n",
       "       'K Rabada', 'Harbhajan Singh', 'S Kaul', 'Basil Thampi',\n",
       "       'S Badree', 'TS Mills', 'NM Coulter-Nile', 'Washington Sundar',\n",
       "       'JD Unadkat', 'SPD Smith', 'SN Thakur', 'SP Jackson', 'A Nehra',\n",
       "       'KS Williamson', 'LH Ferguson', 'DT Christian', 'MA Agarwal (sub)',\n",
       "       'IK Pathan', 'SE Marsh', 'TM Head', 'Ankit Soni', 'Mohammed Siraj',\n",
       "       'R Powell (sub)', 'CR Brathwaite (sub)', 'MJ Guptill',\n",
       "       'Bipul Sharma', 'MN Samuels', 'LMP Simmons', 'KV Sharma',\n",
       "       'CA Lynn', 'DA Miller (sub)', 'Gurkeerat Singh', 'V Shankar',\n",
       "       'Mohammed Shami', 'J Suchith (sub)', 'AT Rayudu', 'Vishnu Vinod',\n",
       "       'PP Chawla', 'MG Johnson', 'SL Malinga', 'AS Rajpoot', 'JH Kallis',\n",
       "       'P Kumar', 'CL White', 'M Kartik', 'RT Ponting', 'AB Agarkar',\n",
       "       'KC Sangakkara', 'Joginder Sharma', 'P Amarnath', 'M Manhas',\n",
       "       'B Geeves', 'MV Boucher', 'AM Nayar', 'L Ronchi', 'LR Shukla',\n",
       "       'Mohammad Hafeez', 'AB Dinda', 'DJ Hussey', 'SC Ganguly',\n",
       "       'SB Styris', 'A Symonds', 'Kamran Akmal', 'GD McGrath',\n",
       "       'AC Gilchrist', 'DJ Bravo', 'S Badrinath', 'JDP Oram',\n",
       "       'D Salunkhe', 'SB Bangar', 'D Kalyankrishna', 'VVS Laxman',\n",
       "       'DS Kulkarni', 'AM Rahane (sub)', 'B Lee', 'RR Sarwan', 'MM Patel',\n",
       "       'GC Smith', 'M Rawat', 'Sohail Tanvir', 'A Kumble',\n",
       "       'M Muralitharan', 'I Sharma', 'PP Ojha', 'DPMD Jayawardene',\n",
       "       'V Sehwag', 'W Jaffer', 'R Vinay Kumar (sub)', 'R Dravid',\n",
       "       'MEK Hussey', 'ST Jayasuriya', 'PR Shah', 'LRPL Taylor',\n",
       "       'VY Mahesh', 'K Goel', 'S Sreesanth', 'Umar Gul', 'SK Trivedi',\n",
       "       'M Kaif', 'T Kohli (sub)', 'Shoaib Malik', 'PJ Sangwan',\n",
       "       'SP Goswami', 'B Akhil', 'DW Steyn', 'R Vinay Kumar',\n",
       "       'B Chipli (sub)', 'AS Yadav', 'LPC Silva', 'DB Ravi Teja',\n",
       "       'BJ Hodge', 'DB Das', 'JR Hopes', 'SM Pollock', 'SS Tiwary',\n",
       "       'DJ Thornely', 'SK Warne', 'M Ntini', 'U Kaul', 'DT Patil',\n",
       "       'RP Singh', 'Shahid Afridi', 'HH Gibbs', 'YV Takawale',\n",
       "       'SA Asnodkar', 'CK Kapugedera', 'SR Tendulkar', 'CRD Fernando',\n",
       "       'JA Morkel', 'SP Fleming', 'S Vidyut', 'Salman Butt', 'A Chopra',\n",
       "       'Niraj Patel', 'MF Maharoof', 'TM Dilshan', 'T Taibu', 'RR Raje',\n",
       "       'Younis Khan', 'WA Mota', 'AB de Villiers (sub)',\n",
       "       'Shoaib Malik (sub)', 'LA Pomersbach', 'RR Powar', 'Misbah-ul-Haq',\n",
       "       'MS Gony', 'B Chipli', 'TM Srivastava', 'VRV Singh', 'SD Chitnis',\n",
       "       'A Mukund', 'T Kohli', 'RA Jadeja (sub)', 'Pankaj Singh',\n",
       "       'L Balaji', 'ML Hayden', 'T Thushara', 'R Ashwin', 'JD Ryder',\n",
       "       'DL Vettori', 'DP Nannes', 'Harmeet Singh', 'R Bishnoi',\n",
       "       'A Flintoff', 'Yashpal Singh', 'KP Pietersen', 'Y Venugopal Rao',\n",
       "       'DA Warner (sub)', 'Kamran Khan', 'AS Raut', 'RJ Quiney',\n",
       "       'RS Bopara', 'Shoaib Ahmed', 'BAW Mendis', 'AN Ghosh', 'JP Duminy',\n",
       "       'MN van Wyk', 'AD Mascarenhas', 'SM Katich', 'RE van der Merwe',\n",
       "       'VS Malik', 'SB Jakati', 'M Vijay', 'SM Harwood', 'RJ Harris',\n",
       "       'LA Carseldine', 'M Morkel', 'TL Suman', 'S Tyagi', 'S Sohal',\n",
       "       'LR Shukla (sub)', 'Mashrafe Mortaza', 'AM Salvi', 'SS Shaikh',\n",
       "       'J Botha', 'Mohammad Ashraful', 'Anirudh Singh', 'P Dogra',\n",
       "       'R Sathish', 'MS Bisla', 'FY Fazal (sub)', 'Y Nagar (sub)',\n",
       "       'AP Tare', 'JM Kemp', 'CA Pujara', 'AC Voges', 'AS Raut (sub)',\n",
       "       'WPUJC Vaas', 'GJ Bailey (sub)', 'J Theron', 'KP Appanna (sub)',\n",
       "       'SJ Srivastava', 'FY Fazal', 'MJ Lumb', 'AA Jhunjhunwala',\n",
       "       'SW Tait', 'R McLaren', 'JP Duminy (sub)', 'S Ladda', 'KAJ Roach',\n",
       "       'S Narwal', 'S Anirudha', 'DE Bollinger', 'M Kaif (sub)',\n",
       "       'KP Appanna', 'PD Collingwood', 'AA Bilakhia', 'AP Dole',\n",
       "       'Iqbal Abdulla', 'B Sumanth', 'MD Mishra', 'RS Sodhi',\n",
       "       'S Dhawan (sub)', 'AG Murtaza', 'MR Marsh', 'AG Paunikar',\n",
       "       'AL Menaria', 'DJ Jacobs', 'JEC Franklin', 'R Sharma', 'IR Jaggi',\n",
       "       'RN ten Doeschate', 'PC Valthaty', 'S Randiv', 'WD Parnell',\n",
       "       'RV Gomez', 'R Ninan', 'Sunny Singh', 'SB Wagh', 'Shakib Al Hasan',\n",
       "       'NLTC Perera', 'AC Thomas', 'DH Yagnik', 'Y Nagar', 'NL McCullum',\n",
       "       'A Mukund (sub)', 'A Mithun', 'Shakib Al Hasan (sub)',\n",
       "       'Harpreet Singh', 'J Syed Mohammad', 'F du Plessis (sub)',\n",
       "       'AC Blizzard', 'AUK Pathan', 'KB Arun Karthik (sub)',\n",
       "       'CJ Ferguson', 'KB Arun Karthik', 'OA Shah', 'Y Gnaneswara Rao',\n",
       "       'AA Chavan', 'Anand Rajan', 'KH Devdhar', 'AN Ahmed', 'KK Cooper',\n",
       "       'A Singh', 'DAJ Bracewell', 'HV Patel', 'DJ Harris',\n",
       "       'F du Plessis', 'RE Levi', 'RR Bhatkal', 'TM Dilshan (sub)',\n",
       "       'P Awana', 'T Mishra', 'KMDN Kulasekara', 'N Saini',\n",
       "       'LA Pomersbach (sub)', 'LJ Wright', 'Azhar Mahmood',\n",
       "       'DJ Harris (sub)', 'NLTC Perera (sub)', 'P Dogra (sub)', 'GB Hogg',\n",
       "       'RJ Peterson', 'WP Saha (sub)', 'MJ Clarke', 'A Ashish Reddy',\n",
       "       'VR Aaron', 'A Chandila', 'UBT Chand', 'PJ Sangwan (sub)',\n",
       "       'Ankit Sharma', 'R Shukla', 'BMAJ Mendis', 'R Dhawan', 'KL Rahul',\n",
       "       'DT Christian (sub)', 'PA Reddy', 'GH Vihari', 'BB Samantray',\n",
       "       'Q de Kock', 'SMSM Senanayake', 'R Rampaul', 'AD Russell',\n",
       "       'BJ Rohrer', 'BB McCullum (sub)', 'DJG Sammy', 'P Suyal',\n",
       "       'UA Birla', 'JO Holder', 'K Upadhyay', 'R Shukla (sub)',\n",
       "       'AR Patel (sub)', 'GJ Bailey', 'KW Richardson', 'NJ Maddinson',\n",
       "       'S Rana', 'WD Parnell (sub)', 'BW Hilfenhaus', 'MA Starc',\n",
       "       'CM Gautam', 'AV Wankhade (sub)', 'IC Pandey', 'BR Dunk',\n",
       "       'MC Henriques (sub)', 'RR Rossouw (sub)', 'Shivam Sharma',\n",
       "       'K Santokie', 'BE Hendricks', 'Parvez Rasool', 'Karanveer Singh',\n",
       "       'BR Dunk (sub)', 'TA Boult', 'J Suchith', 'RG More',\n",
       "       'Anureet Singh', 'Imran Tahir', 'R Tewatia', 'RR Rossouw',\n",
       "       'J Yadav (sub)', 'D Wiese', 'HH Pandya (sub)', 'B Aparajith (sub)',\n",
       "       'J Yadav', 'UBT Chand (sub)', 'SN Khan', 'C Munro',\n",
       "       'CR Brathwaite', 'Mustafizur Rahman', 'NS Naik', 'PV Tambe',\n",
       "       'BB Sran', 'KC Cariappa', 'R Sathish (sub)', 'UT Khawaja',\n",
       "       'CJ Jordan', 'ER Dwivedi', 'DL Chahar', 'F Behardien', 'M Wood',\n",
       "       'E Lewis', 'AJ Tye', 'M Ur Rahman', 'R Singh', 'B Laughlin',\n",
       "       'K Gowtham', 'D Short', 'S Mavi', 'S Gill', 'T Curran',\n",
       "       'H Klaasen', 'Avesh Khan', 'L Plunkett', 'P Shaw', 'M Markande',\n",
       "       'A Hales', 'S Gopal', 'D Willey', 'AD Nath', 'J Searles',\n",
       "       'P Krishna', 'M Ali', 'L Ngidi', 'J Archer', 'S Dube', 'R Salam',\n",
       "       'S Hetmyer', 'M Ashwin', 'J Bairstow', 'Mohammad Nabi',\n",
       "       'H Viljoen', 'S Sharma', 'S Curran', 'A Joseph', 'S Lamichhane',\n",
       "       'C Ingram', 'S Midhun', 'K Paul', 'N Pooran', 'S Rutherford',\n",
       "       'R Parag', 'M Santner', 'S Singh', 'L Livingstone', 'M Lomror',\n",
       "       'O Thomas', 'S Warrier'], dtype=object)"
      ]
     },
     "execution_count": 7,
     "metadata": {},
     "output_type": "execute_result"
    }
   ],
   "source": [
    "df1['fielder'].unique()"
   ]
  },
  {
   "cell_type": "code",
   "execution_count": 8,
   "id": "6f8ea20d",
   "metadata": {},
   "outputs": [
    {
     "data": {
      "text/plain": [
       "(756, 18)"
      ]
     },
     "execution_count": 8,
     "metadata": {},
     "output_type": "execute_result"
    }
   ],
   "source": [
    "df.shape"
   ]
  },
  {
   "cell_type": "code",
   "execution_count": 9,
   "id": "3132736e",
   "metadata": {},
   "outputs": [
    {
     "data": {
      "text/html": [
       "<div>\n",
       "<style scoped>\n",
       "    .dataframe tbody tr th:only-of-type {\n",
       "        vertical-align: middle;\n",
       "    }\n",
       "\n",
       "    .dataframe tbody tr th {\n",
       "        vertical-align: top;\n",
       "    }\n",
       "\n",
       "    .dataframe thead th {\n",
       "        text-align: right;\n",
       "    }\n",
       "</style>\n",
       "<table border=\"1\" class=\"dataframe\">\n",
       "  <thead>\n",
       "    <tr style=\"text-align: right;\">\n",
       "      <th></th>\n",
       "      <th>id</th>\n",
       "      <th>season</th>\n",
       "      <th>city</th>\n",
       "      <th>date</th>\n",
       "      <th>team1</th>\n",
       "      <th>team2</th>\n",
       "      <th>toss_winner</th>\n",
       "      <th>toss_decision</th>\n",
       "      <th>result</th>\n",
       "      <th>dl_applied</th>\n",
       "      <th>winner</th>\n",
       "      <th>win_by_runs</th>\n",
       "      <th>win_by_wickets</th>\n",
       "      <th>player_of_match</th>\n",
       "      <th>venue</th>\n",
       "      <th>umpire1</th>\n",
       "      <th>umpire2</th>\n",
       "      <th>umpire3</th>\n",
       "    </tr>\n",
       "  </thead>\n",
       "  <tbody>\n",
       "    <tr>\n",
       "      <th>0</th>\n",
       "      <td>1</td>\n",
       "      <td>2017</td>\n",
       "      <td>Hyderabad</td>\n",
       "      <td>2017-04-05</td>\n",
       "      <td>Sunrisers Hyderabad</td>\n",
       "      <td>Royal Challengers Bangalore</td>\n",
       "      <td>Royal Challengers Bangalore</td>\n",
       "      <td>field</td>\n",
       "      <td>normal</td>\n",
       "      <td>0</td>\n",
       "      <td>Sunrisers Hyderabad</td>\n",
       "      <td>35</td>\n",
       "      <td>0</td>\n",
       "      <td>Yuvraj Singh</td>\n",
       "      <td>Rajiv Gandhi International Stadium, Uppal</td>\n",
       "      <td>AY Dandekar</td>\n",
       "      <td>NJ Llong</td>\n",
       "      <td>NaN</td>\n",
       "    </tr>\n",
       "    <tr>\n",
       "      <th>1</th>\n",
       "      <td>2</td>\n",
       "      <td>2017</td>\n",
       "      <td>Pune</td>\n",
       "      <td>2017-04-06</td>\n",
       "      <td>Mumbai Indians</td>\n",
       "      <td>Rising Pune Supergiant</td>\n",
       "      <td>Rising Pune Supergiant</td>\n",
       "      <td>field</td>\n",
       "      <td>normal</td>\n",
       "      <td>0</td>\n",
       "      <td>Rising Pune Supergiant</td>\n",
       "      <td>0</td>\n",
       "      <td>7</td>\n",
       "      <td>SPD Smith</td>\n",
       "      <td>Maharashtra Cricket Association Stadium</td>\n",
       "      <td>A Nand Kishore</td>\n",
       "      <td>S Ravi</td>\n",
       "      <td>NaN</td>\n",
       "    </tr>\n",
       "    <tr>\n",
       "      <th>2</th>\n",
       "      <td>3</td>\n",
       "      <td>2017</td>\n",
       "      <td>Rajkot</td>\n",
       "      <td>2017-04-07</td>\n",
       "      <td>Gujarat Lions</td>\n",
       "      <td>Kolkata Knight Riders</td>\n",
       "      <td>Kolkata Knight Riders</td>\n",
       "      <td>field</td>\n",
       "      <td>normal</td>\n",
       "      <td>0</td>\n",
       "      <td>Kolkata Knight Riders</td>\n",
       "      <td>0</td>\n",
       "      <td>10</td>\n",
       "      <td>CA Lynn</td>\n",
       "      <td>Saurashtra Cricket Association Stadium</td>\n",
       "      <td>Nitin Menon</td>\n",
       "      <td>CK Nandan</td>\n",
       "      <td>NaN</td>\n",
       "    </tr>\n",
       "    <tr>\n",
       "      <th>3</th>\n",
       "      <td>4</td>\n",
       "      <td>2017</td>\n",
       "      <td>Indore</td>\n",
       "      <td>2017-04-08</td>\n",
       "      <td>Rising Pune Supergiant</td>\n",
       "      <td>Kings XI Punjab</td>\n",
       "      <td>Kings XI Punjab</td>\n",
       "      <td>field</td>\n",
       "      <td>normal</td>\n",
       "      <td>0</td>\n",
       "      <td>Kings XI Punjab</td>\n",
       "      <td>0</td>\n",
       "      <td>6</td>\n",
       "      <td>GJ Maxwell</td>\n",
       "      <td>Holkar Cricket Stadium</td>\n",
       "      <td>AK Chaudhary</td>\n",
       "      <td>C Shamshuddin</td>\n",
       "      <td>NaN</td>\n",
       "    </tr>\n",
       "    <tr>\n",
       "      <th>4</th>\n",
       "      <td>5</td>\n",
       "      <td>2017</td>\n",
       "      <td>Bangalore</td>\n",
       "      <td>2017-04-08</td>\n",
       "      <td>Royal Challengers Bangalore</td>\n",
       "      <td>Delhi Daredevils</td>\n",
       "      <td>Royal Challengers Bangalore</td>\n",
       "      <td>bat</td>\n",
       "      <td>normal</td>\n",
       "      <td>0</td>\n",
       "      <td>Royal Challengers Bangalore</td>\n",
       "      <td>15</td>\n",
       "      <td>0</td>\n",
       "      <td>KM Jadhav</td>\n",
       "      <td>M Chinnaswamy Stadium</td>\n",
       "      <td>NaN</td>\n",
       "      <td>NaN</td>\n",
       "      <td>NaN</td>\n",
       "    </tr>\n",
       "  </tbody>\n",
       "</table>\n",
       "</div>"
      ],
      "text/plain": [
       "   id  season       city        date                        team1  \\\n",
       "0   1    2017  Hyderabad  2017-04-05          Sunrisers Hyderabad   \n",
       "1   2    2017       Pune  2017-04-06               Mumbai Indians   \n",
       "2   3    2017     Rajkot  2017-04-07                Gujarat Lions   \n",
       "3   4    2017     Indore  2017-04-08       Rising Pune Supergiant   \n",
       "4   5    2017  Bangalore  2017-04-08  Royal Challengers Bangalore   \n",
       "\n",
       "                         team2                  toss_winner toss_decision  \\\n",
       "0  Royal Challengers Bangalore  Royal Challengers Bangalore         field   \n",
       "1       Rising Pune Supergiant       Rising Pune Supergiant         field   \n",
       "2        Kolkata Knight Riders        Kolkata Knight Riders         field   \n",
       "3              Kings XI Punjab              Kings XI Punjab         field   \n",
       "4             Delhi Daredevils  Royal Challengers Bangalore           bat   \n",
       "\n",
       "   result  dl_applied                       winner  win_by_runs  \\\n",
       "0  normal           0          Sunrisers Hyderabad           35   \n",
       "1  normal           0       Rising Pune Supergiant            0   \n",
       "2  normal           0        Kolkata Knight Riders            0   \n",
       "3  normal           0              Kings XI Punjab            0   \n",
       "4  normal           0  Royal Challengers Bangalore           15   \n",
       "\n",
       "   win_by_wickets player_of_match                                      venue  \\\n",
       "0               0    Yuvraj Singh  Rajiv Gandhi International Stadium, Uppal   \n",
       "1               7       SPD Smith    Maharashtra Cricket Association Stadium   \n",
       "2              10         CA Lynn     Saurashtra Cricket Association Stadium   \n",
       "3               6      GJ Maxwell                     Holkar Cricket Stadium   \n",
       "4               0       KM Jadhav                      M Chinnaswamy Stadium   \n",
       "\n",
       "          umpire1        umpire2 umpire3  \n",
       "0     AY Dandekar       NJ Llong     NaN  \n",
       "1  A Nand Kishore         S Ravi     NaN  \n",
       "2     Nitin Menon      CK Nandan     NaN  \n",
       "3    AK Chaudhary  C Shamshuddin     NaN  \n",
       "4             NaN            NaN     NaN  "
      ]
     },
     "execution_count": 9,
     "metadata": {},
     "output_type": "execute_result"
    }
   ],
   "source": [
    "df.head()"
   ]
  },
  {
   "cell_type": "code",
   "execution_count": 10,
   "id": "8ba80db0",
   "metadata": {},
   "outputs": [
    {
     "data": {
      "text/plain": [
       "id                  int64\n",
       "season              int64\n",
       "city               object\n",
       "date               object\n",
       "team1              object\n",
       "team2              object\n",
       "toss_winner        object\n",
       "toss_decision      object\n",
       "result             object\n",
       "dl_applied          int64\n",
       "winner             object\n",
       "win_by_runs         int64\n",
       "win_by_wickets      int64\n",
       "player_of_match    object\n",
       "venue              object\n",
       "umpire1            object\n",
       "umpire2            object\n",
       "umpire3            object\n",
       "dtype: object"
      ]
     },
     "execution_count": 10,
     "metadata": {},
     "output_type": "execute_result"
    }
   ],
   "source": [
    "df.dtypes"
   ]
  },
  {
   "cell_type": "code",
   "execution_count": 11,
   "id": "d5064ef1",
   "metadata": {},
   "outputs": [
    {
     "data": {
      "text/plain": [
       "['id',\n",
       " 'season',\n",
       " 'city',\n",
       " 'date',\n",
       " 'team1',\n",
       " 'team2',\n",
       " 'toss_winner',\n",
       " 'toss_decision',\n",
       " 'result',\n",
       " 'dl_applied',\n",
       " 'winner',\n",
       " 'win_by_runs',\n",
       " 'win_by_wickets',\n",
       " 'player_of_match',\n",
       " 'venue',\n",
       " 'umpire1',\n",
       " 'umpire2',\n",
       " 'umpire3']"
      ]
     },
     "execution_count": 11,
     "metadata": {},
     "output_type": "execute_result"
    }
   ],
   "source": [
    "list(df.columns.values)"
   ]
  },
  {
   "cell_type": "code",
   "execution_count": 12,
   "id": "b3795f5f",
   "metadata": {},
   "outputs": [
    {
     "data": {
      "text/plain": [
       "array(['Sunrisers Hyderabad', 'Rising Pune Supergiant',\n",
       "       'Kolkata Knight Riders', 'Kings XI Punjab',\n",
       "       'Royal Challengers Bangalore', 'Mumbai Indians',\n",
       "       'Delhi Daredevils', 'Gujarat Lions', 'Chennai Super Kings',\n",
       "       'Rajasthan Royals', 'Deccan Chargers', 'Pune Warriors',\n",
       "       'Kochi Tuskers Kerala', nan, 'Rising Pune Supergiants',\n",
       "       'Delhi Capitals'], dtype=object)"
      ]
     },
     "execution_count": 12,
     "metadata": {},
     "output_type": "execute_result"
    }
   ],
   "source": [
    "df['winner'].unique()"
   ]
  },
  {
   "cell_type": "markdown",
   "id": "f8600f30",
   "metadata": {},
   "source": [
    "### Working on Matches data set of IPL"
   ]
  },
  {
   "cell_type": "code",
   "execution_count": 13,
   "id": "11e78c71",
   "metadata": {},
   "outputs": [
    {
     "name": "stdout",
     "output_type": "stream",
     "text": [
      "<class 'pandas.core.frame.DataFrame'>\n",
      "RangeIndex: 756 entries, 0 to 755\n",
      "Data columns (total 18 columns):\n",
      " #   Column           Non-Null Count  Dtype \n",
      "---  ------           --------------  ----- \n",
      " 0   id               756 non-null    int64 \n",
      " 1   season           756 non-null    int64 \n",
      " 2   city             749 non-null    object\n",
      " 3   date             756 non-null    object\n",
      " 4   team1            756 non-null    object\n",
      " 5   team2            756 non-null    object\n",
      " 6   toss_winner      756 non-null    object\n",
      " 7   toss_decision    756 non-null    object\n",
      " 8   result           756 non-null    object\n",
      " 9   dl_applied       756 non-null    int64 \n",
      " 10  winner           752 non-null    object\n",
      " 11  win_by_runs      756 non-null    int64 \n",
      " 12  win_by_wickets   756 non-null    int64 \n",
      " 13  player_of_match  752 non-null    object\n",
      " 14  venue            756 non-null    object\n",
      " 15  umpire1          754 non-null    object\n",
      " 16  umpire2          754 non-null    object\n",
      " 17  umpire3          119 non-null    object\n",
      "dtypes: int64(5), object(13)\n",
      "memory usage: 106.4+ KB\n"
     ]
    }
   ],
   "source": [
    "df.info()"
   ]
  },
  {
   "cell_type": "markdown",
   "id": "460be95b",
   "metadata": {},
   "source": [
    "#### Checking for NaN values"
   ]
  },
  {
   "cell_type": "code",
   "execution_count": 14,
   "id": "69f90b92",
   "metadata": {},
   "outputs": [
    {
     "data": {
      "text/plain": [
       "id                 False\n",
       "season             False\n",
       "city                True\n",
       "date               False\n",
       "team1              False\n",
       "team2              False\n",
       "toss_winner        False\n",
       "toss_decision      False\n",
       "result             False\n",
       "dl_applied         False\n",
       "winner              True\n",
       "win_by_runs        False\n",
       "win_by_wickets     False\n",
       "player_of_match     True\n",
       "venue              False\n",
       "umpire1             True\n",
       "umpire2             True\n",
       "umpire3             True\n",
       "dtype: bool"
      ]
     },
     "execution_count": 14,
     "metadata": {},
     "output_type": "execute_result"
    }
   ],
   "source": [
    "df.isna().any() "
   ]
  },
  {
   "cell_type": "markdown",
   "id": "d6ea4e76",
   "metadata": {},
   "source": [
    "#### Maximum runs scored by which team"
   ]
  },
  {
   "cell_type": "code",
   "execution_count": 15,
   "id": "1110faae",
   "metadata": {},
   "outputs": [
    {
     "data": {
      "text/plain": [
       "id                               44\n",
       "season                         2017\n",
       "city                          Delhi\n",
       "date                     2017-05-06\n",
       "team1                Mumbai Indians\n",
       "team2              Delhi Daredevils\n",
       "toss_winner        Delhi Daredevils\n",
       "toss_decision                 field\n",
       "result                       normal\n",
       "dl_applied                        0\n",
       "winner               Mumbai Indians\n",
       "win_by_runs                     146\n",
       "win_by_wickets                    0\n",
       "player_of_match         LMP Simmons\n",
       "venue              Feroz Shah Kotla\n",
       "umpire1                 Nitin Menon\n",
       "umpire2                   CK Nandan\n",
       "umpire3                         NaN\n",
       "Name: 43, dtype: object"
      ]
     },
     "execution_count": 15,
     "metadata": {},
     "output_type": "execute_result"
    }
   ],
   "source": [
    "df.iloc[df['win_by_runs'].idxmax()]"
   ]
  },
  {
   "cell_type": "markdown",
   "id": "e330e5bb",
   "metadata": {},
   "source": [
    "#### Maximum wickets scored by which team"
   ]
  },
  {
   "cell_type": "code",
   "execution_count": 16,
   "id": "203ea8c6",
   "metadata": {},
   "outputs": [
    {
     "data": {
      "text/plain": [
       "id                                                      3\n",
       "season                                               2017\n",
       "city                                               Rajkot\n",
       "date                                           2017-04-07\n",
       "team1                                       Gujarat Lions\n",
       "team2                               Kolkata Knight Riders\n",
       "toss_winner                         Kolkata Knight Riders\n",
       "toss_decision                                       field\n",
       "result                                             normal\n",
       "dl_applied                                              0\n",
       "winner                              Kolkata Knight Riders\n",
       "win_by_runs                                             0\n",
       "win_by_wickets                                         10\n",
       "player_of_match                                   CA Lynn\n",
       "venue              Saurashtra Cricket Association Stadium\n",
       "umpire1                                       Nitin Menon\n",
       "umpire2                                         CK Nandan\n",
       "umpire3                                               NaN\n",
       "Name: 2, dtype: object"
      ]
     },
     "execution_count": 16,
     "metadata": {},
     "output_type": "execute_result"
    }
   ],
   "source": [
    "df.iloc[df['win_by_wickets'].idxmax()]"
   ]
  },
  {
   "cell_type": "markdown",
   "id": "c6a57a96",
   "metadata": {},
   "source": [
    "#### Year in Which the highest number of matches were played?"
   ]
  },
  {
   "cell_type": "code",
   "execution_count": 17,
   "id": "fd8ad76e",
   "metadata": {},
   "outputs": [
    {
     "data": {
      "text/plain": [
       "Text(0.5, 0, 'Number of matches')"
      ]
     },
     "execution_count": 17,
     "metadata": {},
     "output_type": "execute_result"
    },
    {
     "data": {
      "image/png": "[encoded data removed]",
      "text/plain": [
       "<Figure size 640x480 with 1 Axes>"
      ]
     },
     "metadata": {},
     "output_type": "display_data"
    }
   ],
   "source": [
    "sns.countplot(y=df.season)\n",
    "plt.xlabel( \"Number of matches\" , size = 9)"
   ]
  },
  {
   "cell_type": "markdown",
   "id": "b1356f13",
   "metadata": {},
   "source": [
    "#### Most Successful Team in the IPL"
   ]
  },
  {
   "cell_type": "code",
   "execution_count": 18,
   "id": "5f333712",
   "metadata": {},
   "outputs": [
    {
     "data": {
      "text/plain": [
       "Text(0, 0.5, 'Teams')"
      ]
     },
     "execution_count": 18,
     "metadata": {},
     "output_type": "execute_result"
    },
    {
     "data": {
      "image/png": "[encoded data removed]",
      "text/plain": [
       "<Figure size 640x480 with 1 Axes>"
      ]
     },
     "metadata": {},
     "output_type": "display_data"
    }
   ],
   "source": [
    "sns.countplot(y=df.winner)\n",
    "plt.xlabel( \"matches won\" , size = 9)\n",
    "plt.ylabel( \"Teams\" , size = 9)"
   ]
  },
  {
   "cell_type": "markdown",
   "id": "b699ddfc",
   "metadata": {},
   "source": [
    "#### Most Selected Toss Decision"
   ]
  },
  {
   "cell_type": "code",
   "execution_count": 19,
   "id": "ae89a901",
   "metadata": {},
   "outputs": [
    {
     "data": {
      "text/plain": [
       "Text(0, 0.5, 'Decision ')"
      ]
     },
     "execution_count": 19,
     "metadata": {},
     "output_type": "execute_result"
    },
    {
     "data": {
      "image/png": "[encoded data removed]",
      "text/plain": [
       "<Figure size 640x480 with 1 Axes>"
      ]
     },
     "metadata": {},
     "output_type": "display_data"
    }
   ],
   "source": [
    "sns.countplot(y=df.toss_decision)\n",
    "plt.xlabel( \"decision Count\" , size = 9)\n",
    "plt.ylabel( \"Decision \" , size = 9)"
   ]
  },
  {
   "cell_type": "markdown",
   "id": "1f43067a",
   "metadata": {},
   "source": [
    "#### Top 5 MVP players in IPL"
   ]
  },
  {
   "cell_type": "code",
   "execution_count": 20,
   "id": "d1371641",
   "metadata": {
    "scrolled": false
   },
   "outputs": [
    {
     "data": {
      "text/plain": [
       "Text(0, 0.5, 'MVP Players')"
      ]
     },
     "execution_count": 20,
     "metadata": {},
     "output_type": "execute_result"
    },
    {
     "data": {
      "image/png": "[encoded data removed]",
      "text/plain": [
       "<Figure size 640x480 with 1 Axes>"
      ]
     },
     "metadata": {},
     "output_type": "display_data"
    }
   ],
   "source": [
    "ax = sns.countplot(y=df.player_of_match, order= df.player_of_match.value_counts().iloc[:6].index)\n",
    "ax.bar_label(ax.containers[0])\n",
    "plt.xlabel( \"Number of MVP's\" , size = 9)\n",
    "plt.ylabel( \"MVP Players\" , size = 9)"
   ]
  },
  {
   "cell_type": "markdown",
   "id": "3166dd90",
   "metadata": {},
   "source": [
    "#### Conclusion- Team suggested for product endorsement would be Mumbai indians, and celebrity recommended for brand ambassador would be Chris Gayle"
   ]
  }
 ],
 "metadata": {
  "kernelspec": {
   "display_name": "Python 3 (ipykernel)",
   "language": "python",
   "name": "python3"
  },
  "language_info": {
   "codemirror_mode": {
    "name": "ipython",
    "version": 3
   },
   "file_extension": ".py",
   "mimetype": "text/x-python",
   "name": "python",
   "nbconvert_exporter": "python",
   "pygments_lexer": "ipython3",
   "version": "3.9.13"
  }
 },
 "nbformat": 4,
 "nbformat_minor": 5
}
